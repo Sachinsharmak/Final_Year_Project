{
 "cells": [
  {
   "cell_type": "markdown",
   "metadata": {},
   "source": [
    "# Disease Prediction and Medical Recommendation System"
   ]
  },
  {
   "cell_type": "markdown",
   "metadata": {},
   "source": [
    "# Import Libraries and load dataset"
   ]
  },
  {
   "cell_type": "code",
   "execution_count": 1,
   "metadata": {},
   "outputs": [],
   "source": [
    "import pandas as pd\n",
    "from fuzzywuzzy import process\n",
    "from sklearn.model_selection import train_test_split\n",
    "from sklearn.preprocessing import LabelEncoder\n",
    "from sklearn.svm import SVC\n",
    "from sklearn.ensemble import RandomForestClassifier, GradientBoostingClassifier\n",
    "from sklearn.metrics import accuracy_score, confusion_matrix, classification_report, f1_score\n",
    "import numpy as np\n",
    "import pickle\n",
    "\n",
    "dataset = pd.read_csv('kaggle_dataset/Training.csv')"
   ]
  },
  {
   "cell_type": "markdown",
   "metadata": {},
   "source": [
    "# Splitting into train and test dataset"
   ]
  },
  {
   "cell_type": "code",
   "execution_count": 2,
   "metadata": {},
   "outputs": [],
   "source": [
    "X = dataset.drop('prognosis', axis=1)\n",
    "y = dataset['prognosis']\n",
    "\n",
    "le = LabelEncoder()\n",
    "le.fit(y)\n",
    "y_encoded = le.transform(y)\n",
    "\n",
    "X_train, X_test, y_train, y_test = train_test_split(X, y_encoded, test_size=0.3, random_state=42, stratify=y_encoded)"
   ]
  },
  {
   "cell_type": "code",
   "execution_count": 3,
   "metadata": {},
   "outputs": [],
   "source": [
    "np.random.seed(100)\n",
    "noise_indices = np.random.choice(len(X_test), size=int(len(X_test) * 0.25), replace=False)\n",
    "for idx in noise_indices:\n",
    "    flip_count = np.random.randint(10, 16)\n",
    "    flip_indices = np.random.choice(X_test.shape[1], size=flip_count, replace=False)\n",
    "    for feature_idx in flip_indices:\n",
    "        X_test.iloc[idx, feature_idx] = 1 - X_test.iloc[idx, feature_idx] "
   ]
  },
  {
   "cell_type": "markdown",
   "metadata": {},
   "source": [
    "# Training the prediction models"
   ]
  },
  {
   "cell_type": "code",
   "execution_count": 4,
   "metadata": {},
   "outputs": [
    {
     "name": "stdout",
     "output_type": "stream",
     "text": [
      "SVC Accuracy: 0.9966 \n",
      "\n",
      "SVC Confusion Matrix: \n",
      "\n",
      "[[36,  0,  0, ...,  0,  0,  0],\n",
      " [ 0, 36,  0, ...,  0,  0,  0],\n",
      " [ 0,  0, 36, ...,  0,  0,  0],\n",
      " ...,\n",
      " [ 0,  0,  0, ..., 36,  0,  0],\n",
      " [ 0,  0,  0, ...,  0, 36,  0],\n",
      " [ 0,  0,  0, ...,  0,  0, 36]]\n",
      "RandomForest Accuracy: 0.8848 \n",
      "\n",
      "RandomForest Confusion Matrix: \n",
      "\n",
      "[[32,  0,  0, ...,  0,  0,  0],\n",
      " [ 0, 25,  0, ...,  0,  1,  0],\n",
      " [ 1,  0, 30, ...,  0,  0,  0],\n",
      " ...,\n",
      " [ 0,  0,  0, ..., 28,  0,  0],\n",
      " [ 0,  0,  0, ...,  0, 36,  0],\n",
      " [ 1,  0,  0, ...,  0,  1, 31]]\n",
      "GradientBoosting Accuracy: 0.8083 \n",
      "\n",
      "GradientBoosting Confusion Matrix: \n",
      "\n",
      "[[24,  0,  0, ...,  0,  0,  0],\n",
      " [ 0, 26,  0, ...,  0,  1,  0],\n",
      " [ 0,  0, 29, ...,  0,  1,  0],\n",
      " ...,\n",
      " [ 0,  0,  0, ..., 28,  0,  0],\n",
      " [ 0,  0,  0, ...,  0, 30,  0],\n",
      " [ 0,  0,  0, ...,  1,  0, 31]]\n"
     ]
    }
   ],
   "source": [
    "prediction_models = {\n",
    "    'SVC': SVC(kernel='linear', C=0.1),  \n",
    "    'RandomForest': RandomForestClassifier(\n",
    "        n_estimators=50,                 \n",
    "        max_depth=10,                    \n",
    "        min_samples_split=5,            \n",
    "        max_features='sqrt',            \n",
    "        random_state=42\n",
    "    ),\n",
    "    'GradientBoosting': GradientBoostingClassifier(\n",
    "        n_estimators=50,                \n",
    "        learning_rate=0.08,             \n",
    "        max_depth=8,                    \n",
    "        min_samples_split=4,            \n",
    "        random_state=42\n",
    "    ),\n",
    "}\n",
    "\n",
    "for name_of_model, model in prediction_models.items():\n",
    "    \n",
    "    model.fit(X_train, y_train)                                                \n",
    "\n",
    "    test_predictions = model.predict(X_test)                                    \n",
    "\n",
    "    model_accuracy = accuracy_score(y_test, test_predictions)                    \n",
    "    print(f\"{name_of_model} Accuracy: {model_accuracy:.4f} \\n\")\n",
    "\n",
    "    cm = confusion_matrix(y_test, test_predictions)\n",
    "    print(f\"{name_of_model} Confusion Matrix: \\n\")\n",
    "    print(np.array2string(cm, separator=', '))"
   ]
  },
  {
   "cell_type": "markdown",
   "metadata": {},
   "source": [
    "### Printing the precision, recall and f1-score using the classification report function."
   ]
  },
  {
   "cell_type": "code",
   "execution_count": 5,
   "metadata": {},
   "outputs": [
    {
     "name": "stdout",
     "output_type": "stream",
     "text": [
      "\n",
      "               precision    recall  f1-score   support\n",
      "\n",
      "           0       1.00      0.67      0.80        36\n",
      "           1       1.00      0.72      0.84        36\n",
      "           2       0.97      0.81      0.88        36\n",
      "           3       0.97      0.81      0.88        36\n",
      "           4       0.91      0.81      0.85        36\n",
      "           5       1.00      0.78      0.88        36\n",
      "           6       1.00      0.75      0.86        36\n",
      "           7       0.96      0.72      0.83        36\n",
      "           8       1.00      0.69      0.82        36\n",
      "           9       1.00      0.75      0.86        36\n",
      "          10       1.00      0.75      0.86        36\n",
      "          11       0.97      0.78      0.86        36\n",
      "          12       1.00      0.81      0.89        36\n",
      "          13       1.00      0.81      0.89        36\n",
      "          14       0.74      0.81      0.77        36\n",
      "          15       0.83      0.83      0.83        36\n",
      "          16       0.62      0.89      0.73        36\n",
      "          17       0.60      0.81      0.69        36\n",
      "          18       0.94      0.86      0.90        36\n",
      "          19       0.97      0.92      0.94        36\n",
      "          20       0.81      0.81      0.81        36\n",
      "          21       0.74      0.78      0.76        36\n",
      "          22       0.97      0.83      0.90        36\n",
      "          23       0.66      0.81      0.72        36\n",
      "          24       1.00      0.72      0.84        36\n",
      "          25       0.94      0.94      0.94        36\n",
      "          26       1.00      0.97      0.99        36\n",
      "          27       0.56      0.81      0.66        36\n",
      "          28       0.88      0.83      0.86        36\n",
      "          29       0.96      0.69      0.81        36\n",
      "          30       0.70      0.86      0.78        36\n",
      "          31       0.86      0.83      0.85        36\n",
      "          32       0.50      0.78      0.61        36\n",
      "          33       0.60      0.72      0.66        36\n",
      "          34       0.50      0.97      0.66        36\n",
      "          35       1.00      0.72      0.84        36\n",
      "          36       0.76      0.97      0.85        36\n",
      "          37       0.70      0.86      0.78        36\n",
      "          38       0.61      0.78      0.68        36\n",
      "          39       0.71      0.83      0.77        36\n",
      "          40       0.91      0.86      0.89        36\n",
      "\n",
      "    accuracy                           0.81      1476\n",
      "   macro avg       0.85      0.81      0.82      1476\n",
      "weighted avg       0.85      0.81      0.82      1476\n",
      "\n"
     ]
    }
   ],
   "source": [
    "print(\"\\n\", classification_report(y_test, test_predictions))"
   ]
  },
  {
   "cell_type": "markdown",
   "metadata": {},
   "source": [
    "# Selecting Random Forest model"
   ]
  },
  {
   "cell_type": "code",
   "execution_count": 6,
   "metadata": {},
   "outputs": [
    {
     "name": "stdout",
     "output_type": "stream",
     "text": [
      "RandomForest Final Accuracy: 0.9370\n"
     ]
    }
   ],
   "source": [
    "Rf = RandomForestClassifier(n_estimators=100, random_state=42)\n",
    "Rf.fit(X_train, y_train)\n",
    "ypred = Rf.predict(X_test)\n",
    "print(f\"RandomForest Final Accuracy: {accuracy_score(y_test, ypred):.4f}\")"
   ]
  },
  {
   "cell_type": "markdown",
   "metadata": {},
   "source": [
    "# Saving and loading the pickle file"
   ]
  },
  {
   "cell_type": "code",
   "execution_count": 7,
   "metadata": {},
   "outputs": [],
   "source": [
    "import pickle\n",
    "pickle.dump(Rf, open('model/RandomForest.pkl', 'wb'))\n",
    "Rf = pickle.load(open('model/RandomForest.pkl', 'rb'))"
   ]
  },
  {
   "cell_type": "markdown",
   "metadata": {},
   "source": [
    "# Testing the predictions"
   ]
  },
  {
   "cell_type": "code",
   "execution_count": 8,
   "metadata": {
    "scrolled": true
   },
   "outputs": [
    {
     "name": "stdout",
     "output_type": "stream",
     "text": [
      "Disease Predicted : ['Hyperthyroidism']\n",
      "Actual Disease : ['Hyperthyroidism']\n"
     ]
    }
   ],
   "source": [
    "print(\"Disease Predicted :\", le.inverse_transform(Rf.predict(X_test.iloc[[0]])))\n",
    "print(\"Actual Disease :\", le.inverse_transform([y_test[0]]))"
   ]
  },
  {
   "cell_type": "code",
   "execution_count": 9,
   "metadata": {},
   "outputs": [
    {
     "name": "stdout",
     "output_type": "stream",
     "text": [
      "Disease Predicted : ['Peptic ulcer diseae']\n",
      "Actual Disease : ['Peptic ulcer diseae']\n"
     ]
    }
   ],
   "source": [
    "print(\"Disease Predicted :\", le.inverse_transform(Rf.predict(X_test.iloc[[100]])))\n",
    "print(\"Actual Disease :\", le.inverse_transform([y_test[100]]))"
   ]
  },
  {
   "cell_type": "markdown",
   "metadata": {},
   "source": [
    "# Loading the database for Prediction "
   ]
  },
  {
   "cell_type": "code",
   "execution_count": 10,
   "metadata": {},
   "outputs": [],
   "source": [
    "symptoms = pd.read_csv(\"kaggle_dataset/symptoms_df.csv\")\n",
    "precautions = pd.read_csv(\"kaggle_dataset/precautions_df.csv\")\n",
    "workout = pd.read_csv(\"kaggle_dataset/workout_df.csv\")\n",
    "description = pd.read_csv(\"kaggle_dataset/description.csv\")\n",
    "medications = pd.read_csv('kaggle_dataset/medications.csv')\n",
    "diets = pd.read_csv(\"kaggle_dataset/diets.csv\")"
   ]
  },
  {
   "cell_type": "markdown",
   "metadata": {},
   "source": [
    "###  Making disctionary of symptoms and diseases\n",
    "### Building a information function to extract the description, precaution, medication, diet and workout details from the dataset"
   ]
  },
  {
   "cell_type": "code",
   "execution_count": 11,
   "metadata": {},
   "outputs": [],
   "source": [
    "symptoms_list = {'itching': 0, 'skin_rash': 1, 'nodal_skin_eruptions': 2, 'continuous_sneezing': 3, 'shivering': 4, 'chills': 5, 'joint_pain': 6, 'stomach_pain': 7, 'acidity': 8, 'ulcers_on_tongue': 9, 'muscle_wasting': 10, 'vomiting': 11, 'burning_micturition': 12, 'spotting_ urination': 13, 'fatigue': 14, 'weight_gain': 15, 'anxiety': 16, 'cold_hands_and_feets': 17, 'mood_swings': 18, 'weight_loss': 19, 'restlessness': 20, 'lethargy': 21, 'patches_in_throat': 22, 'irregular_sugar_level': 23, 'cough': 24, 'high_fever': 25, 'sunken_eyes': 26, 'breathlessness': 27, 'sweating': 28, 'dehydration': 29, 'indigestion': 30, 'headache': 31, 'yellowish_skin': 32, 'dark_urine': 33, 'nausea': 34, 'loss_of_appetite': 35, 'pain_behind_the_eyes': 36, 'back_pain': 37, 'constipation': 38, 'abdominal_pain': 39, 'diarrhoea': 40, 'mild_fever': 41, 'yellow_urine': 42, 'yellowing_of_eyes': 43, 'acute_liver_failure': 44, 'fluid_overload': 45, 'swelling_of_stomach': 46, 'swelled_lymph_nodes': 47, 'malaise': 48, 'blurred_and_distorted_vision': 49, 'phlegm': 50, 'throat_irritation': 51, 'redness_of_eyes': 52, 'sinus_pressure': 53, 'runny_nose': 54, 'congestion': 55, 'chest_pain': 56, 'weakness_in_limbs': 57, 'fast_heart_rate': 58, 'pain_during_bowel_movements': 59, 'pain_in_anal_region': 60, 'bloody_stool': 61, 'irritation_in_anus': 62, 'neck_pain': 63, 'dizziness': 64, 'cramps': 65, 'bruising': 66, 'obesity': 67, 'swollen_legs': 68, 'swollen_blood_vessels': 69, 'puffy_face_and_eyes': 70, 'enlarged_thyroid': 71, 'brittle_nails': 72, 'swollen_extremeties': 73, 'excessive_hunger': 74, 'extra_marital_contacts': 75, 'drying_and_tingling_lips': 76, 'slurred_speech': 77, 'knee_pain': 78, 'hip_joint_pain': 79, 'muscle_weakness': 80, 'stiff_neck': 81, 'swelling_joints': 82, 'movement_stiffness': 83, 'spinning_movements': 84, 'loss_of_balance': 85, 'unsteadiness': 86, 'weakness_of_one_body_side': 87, 'loss_of_smell': 88, 'bladder_discomfort': 89, 'foul_smell_of urine': 90, 'continuous_feel_of_urine': 91, 'passage_of_gases': 92, 'internal_itching': 93, 'toxic_look_(typhos)': 94, 'depression': 95, 'irritability': 96, 'muscle_pain': 97, 'altered_sensorium': 98, 'red_spots_over_body': 99, 'belly_pain': 100, 'abnormal_menstruation': 101, 'dischromic _patches': 102, 'watering_from_eyes': 103, 'increased_appetite': 104, 'polyuria': 105, 'family_history': 106, 'mucoid_sputum': 107, 'rusty_sputum': 108, 'lack_of_concentration': 109, 'visual_disturbances': 110, 'receiving_blood_transfusion': 111, 'receiving_unsterile_injections': 112, 'coma': 113, 'stomach_bleeding': 114, 'distention_of_abdomen': 115, 'history_of_alcohol_consumption': 116, 'fluid_overload.1': 117, 'blood_in_sputum': 118, 'prominent_veins_on_calf': 119, 'palpitations': 120, 'painful_walking': 121, 'pus_filled_pimples': 122, 'blackheads': 123, 'scurring': 124, 'skin_peeling': 125, 'silver_like_dusting': 126, 'small_dents_in_nails': 127, 'inflammatory_nails': 128, 'blister': 129, 'red_sore_around_nose': 130, 'yellow_crust_ooze': 131}\n",
    "diseases_list = {15: 'Fungal infection', 4: 'Allergy', 16: 'GERD', 9: 'Chronic cholestasis', 14: 'Drug Reaction', 33: 'Peptic ulcer diseae', 1: 'AIDS', 12: 'Diabetes ', 17: 'Gastroenteritis', 6: 'Bronchial Asthma', 23: 'Hypertension ', 30: 'Migraine', 7: 'Cervical spondylosis', 32: 'Paralysis (brain hemorrhage)', 28: 'Jaundice', 29: 'Malaria', 8: 'Chicken pox', 11: 'Dengue', 37: 'Typhoid', 40: 'hepatitis A', 19: 'Hepatitis B', 20: 'Hepatitis C', 21: 'Hepatitis D', 22: 'Hepatitis E', 3: 'Alcoholic hepatitis', 36: 'Tuberculosis', 10: 'Common Cold', 34: 'Pneumonia', 13: 'Dimorphic hemmorhoids(piles)', 18: 'Heart attack', 39: 'Varicose veins', 26: 'Hypothyroidism', 24: 'Hyperthyroidism', 25: 'Hypoglycemia', 31: 'Osteoarthristis', 5: 'Arthritis', 0: '(vertigo) Paroymsal  Positional Vertigo', 2: 'Acne', 38: 'Urinary tract infection', 35: 'Psoriasis', 27: 'Impetigo'}\n",
    "\n",
    "symptoms_list_processed = {symptom.replace('_', ' ').lower(): value for symptom, value in symptoms_list.items()}\n",
    "\n",
    "def information(predicted_dis):\n",
    "    disease_description = description[description['Disease'] == predicted_dis]['Description']\n",
    "    disease_description = \" \".join([w for w in disease_description])\n",
    "\n",
    "    disease_precautions = precautions[precautions['Disease'] == predicted_dis][['Precaution_1', 'Precaution_2', 'Precaution_3', 'Precaution_4']]\n",
    "    disease_precautions = [col for col in disease_precautions.values]\n",
    "\n",
    "    disease_medications = medications[medications['Disease'] == predicted_dis]['Medication']\n",
    "    disease_medications = [med for med in disease_medications.values]\n",
    "\n",
    "    disease_diet = diets[diets['Disease'] == predicted_dis]['Diet']\n",
    "    disease_diet = [die for die in disease_diet.values]\n",
    "\n",
    "    disease_workout = workout[workout['disease'] == predicted_dis]['workout']\n",
    "    \n",
    "    return disease_description, disease_precautions, disease_medications, disease_diet, disease_workout\n"
   ]
  },
  {
   "cell_type": "markdown",
   "metadata": {},
   "source": [
    "### Prediction Model function"
   ]
  },
  {
   "cell_type": "code",
   "execution_count": 12,
   "metadata": {},
   "outputs": [],
   "source": [
    "def predicted_value(patient_symptoms):\n",
    "    i_vector = np.zeros(len(symptoms_list_processed))\n",
    "    for i in patient_symptoms:\n",
    "        i_vector[symptoms_list_processed[i]] = 1\n",
    "    \n",
    "    return le.inverse_transform([Rf.predict([i_vector])[0]])[0]"
   ]
  },
  {
   "cell_type": "code",
   "execution_count": 13,
   "metadata": {},
   "outputs": [],
   "source": [
    "from fuzzywuzzy import process\n",
    "\n",
    "def correct_spelling(symptom):\n",
    "    matched_symptom, score = process.extractOne(symptom, list(symptoms_list_processed.keys()))\n",
    "    \n",
    "    if score >= 80:\n",
    "        return matched_symptom\n",
    "    else:\n",
    "        return None\n"
   ]
  },
  {
   "cell_type": "code",
   "execution_count": 14,
   "metadata": {},
   "outputs": [
    {
     "name": "stdout",
     "output_type": "stream",
     "text": [
      "\n",
      "Predicted Disease: Heart attack\n",
      "\n",
      "Description:\n",
      "Heart attack is a sudden and severe reduction in blood flow to the heart muscle.\n",
      "\n",
      "Precautions:\n",
      "1. call ambulance\n",
      "2. chew or swallow asprin\n",
      "3. keep calm\n",
      "4. nan\n",
      "\n",
      "Medications:\n",
      "1. ['Compression stockings', 'Exercise', 'Elevating the legs', 'Sclerotherapy', 'Laser treatments']\n",
      "\n",
      "Workout:\n",
      "1. Follow a heart-healthy diet\n",
      "2. Limit sodium intake\n",
      "3. Include fiber-rich foods\n",
      "4. Consume healthy fats\n",
      "5. Include lean proteins\n",
      "6. Limit sugary foods and beverages\n",
      "7. Stay hydrated\n",
      "8. Consult a healthcare professional\n",
      "9. Follow medical recommendations\n",
      "10. Engage in regular exercise\n",
      "\n",
      "Diets:\n",
      "1. ['Heart-Healthy Diet', 'Low-sodium foods', 'Fruits and vegetables', 'Whole grains', 'Lean proteins']\n"
     ]
    },
    {
     "name": "stderr",
     "output_type": "stream",
     "text": [
      "/usr/local/lib/python3.10/dist-packages/sklearn/base.py:493: UserWarning: X does not have valid feature names, but RandomForestClassifier was fitted with feature names\n",
      "  warnings.warn(\n"
     ]
    }
   ],
   "source": [
    "symptoms = input(\"Describe your symptoms: \")\n",
    "patient_symptoms = [s.strip() for s in symptoms.split(',')] \n",
    "\n",
    "corrected_symptoms = []\n",
    "for symptom in patient_symptoms:\n",
    "    corrected_symptom = correct_spelling(symptom.lower())\n",
    "    if corrected_symptom:\n",
    "        corrected_symptoms.append(corrected_symptom)\n",
    "    else:\n",
    "        print(f\"Symptom '{symptom}' not found in the database.\")\n",
    "\n",
    "if corrected_symptoms:\n",
    "    predicted_disease = predicted_value(corrected_symptoms)\n",
    "    disease_description, disease_precautions, disease_medications, disease_diet, disease_workout = information(predicted_disease)\n",
    "\n",
    "    print(\"\\nPredicted Disease:\", predicted_disease)\n",
    "    print(\"\\nDescription:\")\n",
    "    print(disease_description)\n",
    "    print(\"\\nPrecautions:\")\n",
    "    for idx, precaution in enumerate(disease_precautions[0], start=1):\n",
    "        print(f\"{idx}. {precaution}\")\n",
    "    print(\"\\nMedications:\")\n",
    "    for idx, medication in enumerate(disease_medications, start=1):\n",
    "        print(f\"{idx}. {medication}\")\n",
    "    print(\"\\nWorkout:\")\n",
    "    for idx, workout in enumerate(disease_workout, start=1):\n",
    "        print(f\"{idx}. {workout}\")\n",
    "    print(\"\\nDiets:\")\n",
    "    for idx, diet in enumerate(disease_diet, start=1):\n",
    "        print(f\"{idx}. {diet}\")\n",
    "\n"
   ]
  }
 ],
 "metadata": {
  "kernelspec": {
   "display_name": "Python 3 (ipykernel)",
   "language": "python",
   "name": "python3"
  },
  "language_info": {
   "codemirror_mode": {
    "name": "ipython",
    "version": 3
   },
   "file_extension": ".py",
   "mimetype": "text/x-python",
   "name": "python",
   "nbconvert_exporter": "python",
   "pygments_lexer": "ipython3",
   "version": "3.10.12"
  }
 },
 "nbformat": 4,
 "nbformat_minor": 4
}
